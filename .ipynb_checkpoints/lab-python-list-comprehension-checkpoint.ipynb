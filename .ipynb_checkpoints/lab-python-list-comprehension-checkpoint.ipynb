{
 "cells": [
  {
   "cell_type": "markdown",
   "id": "7dd3cbde-675a-4b81-92c3-f728846dbe06",
   "metadata": {},
   "source": [
    "## Exercise: Managing Customer Orders Optimized with Comprehension"
   ]
  },
  {
   "cell_type": "markdown",
   "id": "9a2792cf-0c13-422f-aa21-c8d91284c0f9",
   "metadata": {},
   "source": [
    "In the previous exercise, you developed a program to manage customer orders and inventory. Now, let's take it a step further and incorporate comprehension into your code.\n",
    "\n",
    "Follow the steps below to complete the exercise:\n",
    "\n",
    "1. Review your code from the previous exercise and identify areas where you can apply comprehension to simplify and streamline your code. \n",
    "\n",
    "    - *Hint: Apply it to initialize inventory, updating the inventory and printing the updated inventory.*\n",
    "    \n",
    "    - For example, in initializing the inventory, we could have:\n",
    "    \n",
    "        ```python\n",
    "        def initialize_inventory(products):\n",
    "            inventory = {product: int(input(f\"Enter the quantity of {product}s available: \")) for product in products}\n",
    "            return inventory\n",
    "\n",
    "        ```\n",
    "<br>\n",
    "    \n",
    "    \n",
    "2. Modify the function get_customer_orders so it prompts the user to enter the number of customer orders and gathers the product names using a loop and user input. Use comprehension.\n",
    "\n",
    "3. Add a new function to calculate the total price of the customer order. For each product in customer_orders, prompt the user to enter the price of that product. Use comprehension to calculate the total price. Note: assume that the user can only have 1 unit of each product.\n",
    "\n",
    "4. Modify the update_inventory function to remove the product from the inventory if its quantity becomes zero after fulfilling the customer orders. Use comprehension to filter out the products with a quantity of zero from the inventory.\n",
    "\n",
    "5. Print the total price of the customer order.\n",
    "\n",
    "Your code should produce output similar to the following:\n",
    "\n",
    "```python\n",
    "Enter the quantity of t-shirts available:  5\n",
    "Enter the quantity of mugs available:  4\n",
    "Enter the quantity of hats available:  3\n",
    "Enter the quantity of books available:  2\n",
    "Enter the quantity of keychains available:  1\n",
    "Enter the number of customer orders:  2\n",
    "Enter the name of a product that a customer wants to order:  hat\n",
    "Enter the name of a product that a customer wants to order:  keychain\n",
    "\n",
    "Order Statistics:\n",
    "Total Products Ordered: 2\n",
    "Percentage of Unique Products Ordered: 40.0\n",
    "\n",
    "Updated Inventory:\n",
    "t-shirt: 5\n",
    "mug: 4\n",
    "hat: 2\n",
    "book: 2\n",
    "Enter the price of keychain:  5\n",
    "Enter the price of hat:  10\n",
    "Total Price: 15.0\n",
    "\n",
    "```\n"
   ]
  },
  {
   "cell_type": "markdown",
   "id": "30f3330e-9906-4b0a-bc04-049730247afe",
   "metadata": {},
   "source": [
    "def initialize_inventory(products):\n",
    "    inventory={product:int(input(f\"Enter quantity for {product}\")) for product in products}\n",
    "    return inventory\n",
    "    \n",
    "products = [\"t-shirt\", \"mug\", \"hat\", \"book\", \"keychain\"]"
   ]
  },
  {
   "cell_type": "markdown",
   "id": "2f35ba68-2a47-4df2-bc08-76af44dd43ab",
   "metadata": {},
   "source": [
    "#Modify the function get_customer_orders so it prompts the user to enter the number of customer orders \n",
    "#and gathers the product names using a loop and user input. Use comprehension.\n",
    "\n",
    "# 2. Get customer orders\n",
    "\n",
    "def get_customer_orders():\n",
    "    customer_orders = set()\n",
    "    \n",
    "    try:\n",
    "        num_orders = int(input(\"Enter the number of customer orders: \"))\n",
    "    except ValueError:\n",
    "        print(\"Please enter a valid number.\")\n",
    "        return set()  # Return an empty set if the input is invalid\n",
    "\n",
    "    for orders in range(num_orders):\n",
    "        product = input(\"Enter a product name (or type 'done' to finish): \").lower()\n",
    "        if product == 'done':\n",
    "            break\n",
    "        elif product in products:\n",
    "            customer_orders.add(product)\n",
    "        else:\n",
    "            print(\"Invalid product name, please try again.\")\n",
    "\n",
    "    return {order for order in customer_orders}\n"
   ]
  },
  {
   "cell_type": "markdown",
   "id": "db2c6b40-a017-4527-89fb-7b4d7646b756",
   "metadata": {},
   "source": [
    "def calculate_order_statistics(customer_orders, products):\n",
    "    total = len(customer_orders)  # Total products ordered\n",
    "    percentage = (len(customer_orders) / len(products)) * 100  # Percentage of unique products ordered\n",
    "    return total, percentage"
   ]
  },
  {
   "cell_type": "markdown",
   "id": "2072e864-4861-4d5d-8ee1-c0e8ec18b943",
   "metadata": {},
   "source": [
    "# 4. Print order statistics\n",
    "def print_order_statistics(order_statistics):\n",
    "    total_products_ordered, percentage_ordered = order_statistics  # Unpack the tuple\n",
    "    print(\"Order Statistics:\")\n",
    "    print(f\"Total Products Ordered: {total_products_ordered}\")\n",
    "    print(f\"Percentage of Products Ordered: {percentage_ordered:.2f}%\")"
   ]
  },
  {
   "cell_type": "markdown",
   "id": "3b69594b-798a-4af4-ac7c-e6b50e4f11c9",
   "metadata": {},
   "source": [
    "#Add a new function to calculate the total price of the customer order. \n",
    "#For each product in customer_orders, prompt the user to enter the price of that product. Use comprehension to calculate the total price. \n",
    "#Note: assume that the user can only have 1 unit of each product.\n",
    "\n",
    "def calculate_price():\n",
    "    prices = {product:float(input(f\"Enter price for {product}:\")) for product in customer_order}\n",
    "\n",
    "    total = sum(prices.values())\n",
    "    return total_price\n"
   ]
  },
  {
   "cell_type": "code",
   "execution_count": 102,
   "id": "0948dffb-add0-4c18-b3b9-8ff833772f08",
   "metadata": {},
   "outputs": [],
   "source": [
    "#Modify the update_inventory function to remove the product from the inventory if its quantity becomes zero \n",
    "#after fulfilling the customer orders. \n",
    "#Use comprehension to filter out the products with a quantity of zero from the inventory.\n"
   ]
  },
  {
   "cell_type": "markdown",
   "id": "5ff9e51b-9738-4057-a787-786dd2258a8d",
   "metadata": {},
   "source": [
    "\n",
    "def update_inventory(customer_orders, inventory):\n",
    "    # Reduce the quantity of each ordered product\n",
    "    for product in customer_orders:\n",
    "        if product in inventory:\n",
    "            inventory[product] -= 1  # Decrease quantity by 1\n",
    "\n",
    "    #create a new inventory without products with zero quantity\n",
    "    updated_inventory = {product: quantity for product, quantity in inventory.items() if quantity > 0}\n",
    "\n",
    "    return updated_inventory\n",
    "\n",
    "\n"
   ]
  },
  {
   "cell_type": "markdown",
   "id": "3dbd8415-4813-43de-89b5-688c6a910266",
   "metadata": {},
   "source": [
    "def print_updated_inventory(inventory):\n",
    "    print(\"Updated Inventory:\")\n",
    "    for product, quantity in inventory.items():\n",
    "        print(f\"{product}: {quantity}\")\n",
    "\n",
    "inventory = initialize_inventory(products)  # Initialize inventory\n",
    "customer_orders = get_customer_orders()  # Get customer orders\n",
    "order_statistics = calculate_order_statistics(customer_orders, products)  # Calculate order statistics\n",
    "print_order_statistics(order_statistics)  # Print order statistics\n",
    "final_price = total_price(customer_orders)  # Calculate total price\n",
    "print(f\"The total price of your order is: ${final_price:.2f}\")\n",
    "updated_inventory = update_inventory(customer_orders, inventory)  # Update inventory\n",
    "print_updated_inventory(updated_inventory)  # Print updated inventory"
   ]
  },
  {
   "cell_type": "code",
   "execution_count": 120,
   "id": "7ead0e37-1d0e-4088-b624-b9413e32dfff",
   "metadata": {},
   "outputs": [
    {
     "name": "stdin",
     "output_type": "stream",
     "text": [
      "Enter quantity for t-shirt:  5\n",
      "Enter quantity for mug:  5\n",
      "Enter quantity for hat:  5\n",
      "Enter quantity for book:  5\n",
      "Enter quantity for keychain:  5\n",
      "Enter the number of customer orders:  2\n",
      "Enter a product name (or type 'done' to finish):  mug\n",
      "Enter a product name (or type 'done' to finish):  book\n"
     ]
    },
    {
     "name": "stdout",
     "output_type": "stream",
     "text": [
      "Order Statistics:\n",
      "Total Unique Products Ordered: 2\n",
      "Percentage of Products Ordered: 40.00%\n"
     ]
    },
    {
     "name": "stdin",
     "output_type": "stream",
     "text": [
      "Enter price for book:  30\n",
      "Enter price for mug:  1230\n"
     ]
    },
    {
     "name": "stdout",
     "output_type": "stream",
     "text": [
      "The total price of your order is: $1260.00\n",
      "Updated Inventory:\n",
      "t-shirt: 5\n",
      "mug: 4\n",
      "hat: 5\n",
      "book: 4\n",
      "keychain: 5\n"
     ]
    }
   ],
   "source": [
    "def initialize_inventory(products):\n",
    "    # Initialize inventory by prompting for quantities\n",
    "    inventory = {product: int(input(f\"Enter quantity for {product}: \")) for product in products}\n",
    "    return inventory\n",
    "\n",
    "products = [\"t-shirt\", \"mug\", \"hat\", \"book\", \"keychain\"]\n",
    "\n",
    "def get_customer_orders():\n",
    "    customer_orders = set()\n",
    "    \n",
    "    try:\n",
    "        num_orders = int(input(\"Enter the number of customer orders: \"))\n",
    "    except ValueError:\n",
    "        print(\"Please enter a valid number.\")\n",
    "        return set()  # Return an empty set if the input is invalid\n",
    "\n",
    "    for _ in range(num_orders):\n",
    "        product = input(\"Enter a product name (or type 'done' to finish): \").lower()\n",
    "        if product == 'done':\n",
    "            break\n",
    "        elif product in products:\n",
    "            customer_orders.add(product)\n",
    "        else:\n",
    "            print(\"Invalid product name, please try again.\")\n",
    "\n",
    "    return customer_orders\n",
    "\n",
    "def calculate_order_statistics(customer_orders, products):\n",
    "    total = len(customer_orders)  # Total unique products ordered\n",
    "    percentage = (total / len(products)) * 100 if products else 0  # Percentage of unique products ordered\n",
    "    return total, percentage\n",
    "\n",
    "def print_order_statistics(order_statistics):\n",
    "    total_products_ordered, percentage_ordered = order_statistics  # Unpack the tuple\n",
    "    print(\"Order Statistics:\")\n",
    "    print(f\"Total Unique Products Ordered: {total_products_ordered}\")\n",
    "    print(f\"Percentage of Products Ordered: {percentage_ordered:.2f}%\")\n",
    "\n",
    "def calculate_price(customer_orders):\n",
    "    # Prompt for prices using comprehension\n",
    "    prices = {product: float(input(f\"Enter price for {product}: \")) for product in customer_orders}\n",
    "    total_price = sum(prices.values())\n",
    "    return total_price\n",
    "\n",
    "def update_inventory(customer_orders, inventory):\n",
    "    # Reduce the quantity of each ordered product\n",
    "    for product in customer_orders:\n",
    "        if product in inventory and inventory[product] > 0:\n",
    "            inventory[product] -= 1  # Decrease quantity by 1\n",
    "\n",
    "    # Create a new inventory without products with zero quantity\n",
    "    updated_inventory = {product: quantity for product, quantity in inventory.items() if quantity > 0}\n",
    "    return updated_inventory\n",
    "\n",
    "def print_updated_inventory(inventory):\n",
    "    print(\"Updated Inventory:\")\n",
    "    for product, quantity in inventory.items():\n",
    "        print(f\"{product}: {quantity}\")\n",
    "\n",
    "    \n",
    "    inventory = initialize_inventory(products)  # Initialize inventory\n",
    "    customer_orders = get_customer_orders()  # Get customer orders\n",
    "    order_statistics = calculate_order_statistics(customer_orders, products)  # Calculate order statistics\n",
    "    print_order_statistics(order_statistics)  # Print order statistics\n",
    "    final_price = calculate_price(customer_orders)  # Calculate total price\n",
    "    print(f\"The total price of your order is: ${final_price:.2f}\")\n",
    "    updated_inventory = update_inventory(customer_orders, inventory)  # Update inventory\n",
    "    print_updated_inventory(updated_inventory)  # Print updated inventory\n"
   ]
  },
  {
   "cell_type": "code",
   "execution_count": null,
   "id": "1000be2d-fa86-4e1d-808f-22eebeeb7d27",
   "metadata": {},
   "outputs": [],
   "source": []
  }
 ],
 "metadata": {
  "kernelspec": {
   "display_name": "Python 3 (ipykernel)",
   "language": "python",
   "name": "python3"
  },
  "language_info": {
   "codemirror_mode": {
    "name": "ipython",
    "version": 3
   },
   "file_extension": ".py",
   "mimetype": "text/x-python",
   "name": "python",
   "nbconvert_exporter": "python",
   "pygments_lexer": "ipython3",
   "version": "3.12.4"
  }
 },
 "nbformat": 4,
 "nbformat_minor": 5
}
